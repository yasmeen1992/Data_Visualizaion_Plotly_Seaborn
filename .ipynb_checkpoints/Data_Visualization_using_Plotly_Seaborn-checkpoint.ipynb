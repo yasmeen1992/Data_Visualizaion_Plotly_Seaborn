{
 "cells": [
  {
   "cell_type": "code",
   "execution_count": 1,
   "metadata": {
    "id": "_W0dzM01wAUD"
   },
   "outputs": [
    {
     "ename": "ModuleNotFoundError",
     "evalue": "No module named 'plotly'",
     "output_type": "error",
     "traceback": [
      "\u001b[1;31m---------------------------------------------------------------------------\u001b[0m",
      "\u001b[1;31mModuleNotFoundError\u001b[0m                       Traceback (most recent call last)",
      "\u001b[1;32m<ipython-input-1-6361d2547ebc>\u001b[0m in \u001b[0;36m<module>\u001b[1;34m\u001b[0m\n\u001b[1;32m----> 1\u001b[1;33m \u001b[1;32mimport\u001b[0m \u001b[0mplotly\u001b[0m\u001b[1;33m\u001b[0m\u001b[1;33m\u001b[0m\u001b[0m\n\u001b[0m",
      "\u001b[1;31mModuleNotFoundError\u001b[0m: No module named 'plotly'"
     ]
    }
   ],
   "source": [
    "import plotly"
   ]
  },
  {
   "cell_type": "code",
   "execution_count": null,
   "metadata": {
    "colab": {
     "base_uri": "https://localhost:8080/",
     "height": 36
    },
    "id": "wlDeBZJmwRtp",
    "outputId": "21420cb4-cfdb-42c7-8dc3-aba83471d009"
   },
   "outputs": [],
   "source": [
    "plotly.__version__"
   ]
  },
  {
   "cell_type": "code",
   "execution_count": null,
   "metadata": {
    "id": "nxBMsGi-wZkS"
   },
   "outputs": [],
   "source": [
    "import pandas as pd\n",
    "import seaborn as sns\n",
    "from  pandas.plotting import scatter_matrix\n",
    "import matplotlib.pyplot as plt\n",
    "from matplotlib import  font_manager as font_manager\n",
    "from datetime import datetime,timedelta\n",
    "import numpy as np\n",
    "import plotly.express as px\n",
    "import plotly.figure_factory as ff\n",
    "import plotly.graph_objects as go"
   ]
  },
  {
   "cell_type": "code",
   "execution_count": null,
   "metadata": {
    "colab": {
     "base_uri": "https://localhost:8080/",
     "height": 175
    },
    "id": "mLwTBGocyDI4",
    "outputId": "e6c83f72-5ce0-4d3e-d7ae-6ee6fd470a1c"
   },
   "outputs": [],
   "source": [
    "df=pd.DataFrame({'Years at work':[1,2,3,4],'income':[6500,10000,12000,14000]})\n",
    "df.head()"
   ]
  },
  {
   "cell_type": "code",
   "execution_count": null,
   "metadata": {
    "colab": {
     "base_uri": "https://localhost:8080/",
     "height": 542
    },
    "id": "DYNfTH0PzIXB",
    "outputId": "8f390d9a-5d75-4bee-b59b-59d937e35903"
   },
   "outputs": [],
   "source": [
    "#simple line using plotly\n",
    "fig=px.line(df,x='Years at work',y='income',title='Income by No of Years at Work')\n",
    "fig.show()"
   ]
  },
  {
   "cell_type": "code",
   "execution_count": null,
   "metadata": {
    "colab": {
     "base_uri": "https://localhost:8080/",
     "height": 476
    },
    "id": "H74Ltglu0Zhd",
    "outputId": "cf95ee38-036c-433f-bf85-3159110659df"
   },
   "outputs": [],
   "source": [
    "#simple line using seaborn\n",
    "sns.set_style(\"darkgrid\")\n",
    "fig, ax = plt.subplots(figsize=(20,7))\n",
    "s=sns.lineplot(data=df, x=\"Years at work\", y=\"income\")\n",
    "s.set_title(\"Income by No of Years at Work\")\n"
   ]
  },
  {
   "cell_type": "code",
   "execution_count": null,
   "metadata": {
    "id": "2rF4TEUY2UWT"
   },
   "outputs": [],
   "source": [
    "\n",
    "stud=['yasmeen','dalia','eman','sama']\n",
    "math=[89,70,90,98]\n",
    "science=[78,96,67,87]\n",
    "programming=[81,87,92,99]\n",
    "database_subject=[91,93,67,89]"
   ]
  },
  {
   "cell_type": "code",
   "execution_count": null,
   "metadata": {
    "colab": {
     "base_uri": "https://localhost:8080/",
     "height": 542
    },
    "id": "3e6eOESb1mNm",
    "outputId": "4000f63c-46da-467b-cc1e-8a48ba5faeac"
   },
   "outputs": [],
   "source": [
    "#Multiple line Using Plotly\n",
    "fig=go.Figure()\n",
    "fig.add_trace(go.Scatter(x=stud,y=math,name=\"Maths Marks\",line=dict(color='blue',width=4)))\n",
    "fig.add_trace(go.Scatter(x=stud,y=science,name=\"science Marks\",line=dict(color='red',width=4)))\n",
    "fig.add_trace(go.Scatter(x=stud,y=programming,name=\"Programming Marks\",line=dict(color='green',width=4,dash='dash')))\n",
    "fig.add_trace(go.Scatter(x=stud,y=database_subject,name=\"Database Marks\",line=dict(color='purple',width=4,dash='dot')))\n",
    "fig.update_layout(\n",
    "    title='Students Marks',xaxis_title='Students',yaxis_title='Marks',\n",
    "    title_font_size=20,\n",
    "    font_family=\"Courier New\",\n",
    "    font_color=\"blue\",\n",
    "    title_font_family=\"Times New Roman\",\n",
    "    title_font_color=\"red\",\n",
    "    legend_title_font_color=\"green\",\n",
    "       font=dict(\n",
    "        family=\"Courier New, monospace\",\n",
    "        size=20,\n",
    "        color=\"RebeccaPurple\"\n",
    "    )\n",
    ")\n",
    "fig.show()"
   ]
  },
  {
   "cell_type": "code",
   "execution_count": null,
   "metadata": {
    "id": "m_Qv3E1fnOIp"
   },
   "outputs": [],
   "source": []
  },
  {
   "cell_type": "code",
   "execution_count": null,
   "metadata": {
    "colab": {
     "base_uri": "https://localhost:8080/",
     "height": 477
    },
    "id": "VaxtDDxjWLTD",
    "outputId": "85c77686-c561-441b-f1df-859c77cd5051"
   },
   "outputs": [],
   "source": [
    "#Multiple line Using Seaborn\n",
    "sns.set_style(\"ticks\")\n",
    "sns.set(font_scale = 1.5)\n",
    "fig, ax = plt.subplots(figsize=(20,7))\n",
    "ax= sns.lineplot(x=stud, y=math,label='Math',color='blue',linewidth=2)\n",
    "ax1 = sns.lineplot(x=stud, y=science,label=\"Science\",color='red',linewidth=2  )\n",
    "ax2 = sns.lineplot(x=stud, y=programming,linestyle='--',label='Programming',color='green',linewidth=2)\n",
    "ax3 = sns.lineplot(x=stud, y=database_subject,linestyle=':',label='Database',color='purple',linewidth=2)\n",
    "ax.set_title(\"Students Marks\")\n",
    "ax.legend()\n",
    "\n"
   ]
  },
  {
   "cell_type": "code",
   "execution_count": null,
   "metadata": {
    "colab": {
     "base_uri": "https://localhost:8080/",
     "height": 206
    },
    "id": "MshOXjZUhd6N",
    "outputId": "d361100e-b98e-47da-ee78-b0d825fa259c"
   },
   "outputs": [],
   "source": [
    "df=sns.load_dataset('titanic')\n",
    "df.head()"
   ]
  },
  {
   "cell_type": "code",
   "execution_count": null,
   "metadata": {
    "colab": {
     "base_uri": "https://localhost:8080/",
     "height": 542
    },
    "id": "t2HnaYxYakC2",
    "outputId": "1321cb6d-71ae-4b77-a6ea-2120d58ce85f"
   },
   "outputs": [],
   "source": [
    "# bar plot using plotly\n",
    "fig=px.bar(df,x='pclass',y='fare',color='sex',title='Passenger Class by fare and gender')\n",
    "fig.show()"
   ]
  },
  {
   "cell_type": "code",
   "execution_count": null,
   "metadata": {
    "colab": {
     "base_uri": "https://localhost:8080/",
     "height": 642
    },
    "id": "N8SBYJCUX9Mt",
    "outputId": "5a6d95a7-fe40-4bf3-a8eb-1f7009ced731"
   },
   "outputs": [],
   "source": [
    "fig, ax1 = plt.subplots(figsize=(10, 10))\n",
    "sns.barplot(x='pclass', y='fare', hue='sex', data=df, ax=ax1)"
   ]
  },
  {
   "cell_type": "code",
   "execution_count": null,
   "metadata": {
    "colab": {
     "base_uri": "https://localhost:8080/",
     "height": 542
    },
    "id": "D1ytlY9r3GeN",
    "outputId": "f894ce64-4dfd-4efb-ead5-0d01762293bf"
   },
   "outputs": [],
   "source": [
    "#Area using plotly\n",
    "fig=px.area(df,x='sex',y='age',color='survived',title='Area plot for passenger status by gender and age ')\n",
    "fig.show()"
   ]
  },
  {
   "cell_type": "code",
   "execution_count": null,
   "metadata": {
    "colab": {
     "base_uri": "https://localhost:8080/",
     "height": 542
    },
    "id": "H_w-iYxjs3bA",
    "outputId": "24507430-e186-4264-fe3e-19d1063d9a0b"
   },
   "outputs": [],
   "source": [
    "#Scatter stacked using plotly\n",
    "stud=['yasmeen','samah','faten']\n",
    "fig=go.Figure()\n",
    "fig.add_trace(go.Scatter(x=stud,y=[40,10,20],hoverinfo='x+y',mode='lines',line=dict(color='rgb(172,89,200)',width=.6),stackgroup='one'))\n",
    "fig.add_trace(go.Scatter(x=stud,y=[50,5,2],hoverinfo='x+y',mode='lines',line=dict(color='rgb(100,51,90)',width=.6),stackgroup='one'))\n",
    "\n"
   ]
  },
  {
   "cell_type": "code",
   "execution_count": null,
   "metadata": {
    "colab": {
     "base_uri": "https://localhost:8080/",
     "height": 542
    },
    "id": "dy5bAxRN-iEz",
    "outputId": "eb5517ca-02bf-4ba1-e63e-e7bbe34f6143"
   },
   "outputs": [],
   "source": [
    "#pie chart using plotly\n",
    "stud=['yasmeen','amira','marwa','sarah','sama','dalia']\n",
    "marks=[34,56,76,87,45,90]\n",
    "fig=go.Figure(data=[go.Pie(labels=stud,values=marks, pull=[0, 0,0 ,0.2, 0,0])])\n",
    "fig.update_traces(textposition='inside',textinfo='percent+label')\n",
    "fig.update_layout(title='students and their marks')"
   ]
  },
  {
   "cell_type": "code",
   "execution_count": null,
   "metadata": {
    "colab": {
     "base_uri": "https://localhost:8080/",
     "height": 411
    },
    "id": "LM8pic-mCGSw",
    "outputId": "716c99b1-bae0-4e6a-de05-e178aa3d57a4"
   },
   "outputs": [],
   "source": [
    "# matplotlip pie chart\n",
    "palette_color = sns.color_palette('bright')\n",
    "fig, ax = plt.subplots(figsize=(20,7))\n",
    "# plotting data on chart\n",
    "plt.pie(marks, labels=stud, colors=palette_color,  explode=[0, 0,0 ,0.2, 0,0], autopct='%.1f%%')\n",
    "# displaying chart\n",
    "plt.show()"
   ]
  },
  {
   "cell_type": "code",
   "execution_count": null,
   "metadata": {
    "colab": {
     "base_uri": "https://localhost:8080/",
     "height": 542
    },
    "id": "uuZjvsqyEG3R",
    "outputId": "ccfad444-ae21-4be9-99f7-2f9293464b55"
   },
   "outputs": [],
   "source": [
    "#multilevel pie chart plotly\n",
    "stud=['yasmeen','amira','marwa','sarah','sama','dalia']\n",
    "teacher=['ibrahim','mohamed','abduallh','wadood','hussien','kiwan']\n",
    "marks=[34,56,76,87,45,90]\n",
    "fig =go.Figure(go.Sunburst(\n",
    "   labels=[\"yasmeen\", \"sama\",\"nancy\",\"samar\", \"shreif\",   \"abduallh\", \"wadood\",\"ibrahim\", \"Abel\", \"dalia\", \"sara\", \"amira\"],\n",
    "    parents=[\"\", \"yasmeen\", \"sama\",\"sama\", \"yasmeen\",  \"shreif\", \"shreif\",\"shreif\", \"yasmeen\", \"yasmeen\", \"dalia\", \"yasmeen\"],\n",
    "    values=[10, 14,11,8, 12, 10, 2,5, 6, 6, 4, 4],\n",
    "))\n",
    "#fig=go.Figure(go.Sunburst(labels=stud,parents=teacher,values=marks,))\n",
    "fig.update_layout(margin = dict(t=0, l=0, r=0, b=0))\n",
    "fig.show()"
   ]
  },
  {
   "cell_type": "code",
   "execution_count": null,
   "metadata": {
    "colab": {
     "base_uri": "https://localhost:8080/",
     "height": 542
    },
    "id": "q-GEk50UH6gC",
    "outputId": "d0c62a60-fffa-443d-860f-220c41bf95e7"
   },
   "outputs": [],
   "source": [
    "fig =go.Figure(go.Sunburst(\n",
    "    labels=[\"Eve\", \"Cain\", \"Seth\", \"Enos\", \"Noam\", \"Abel\", \"Awan\", \"Enoch\", \"Azura\"],\n",
    "    parents=[\"\", \"Eve\", \"Eve\", \"Seth\", \"Seth\", \"Eve\", \"Eve\", \"Awan\", \"Eve\" ],\n",
    "    values=[10, 14, 12, 10, 2, 6, 6, 4, 4],\n",
    "))\n",
    "# Update layout for tight margin\n",
    "# See https://plotly.com/python/creating-and-updating-figures/\n",
    "fig.update_layout(margin = dict(t=0, l=0, r=0, b=0))\n",
    "\n",
    "fig.show()"
   ]
  },
  {
   "cell_type": "code",
   "execution_count": null,
   "metadata": {
    "colab": {
     "base_uri": "https://localhost:8080/",
     "height": 206
    },
    "id": "bSO39xAxH7Eb",
    "outputId": "b91186e3-0b8a-48f9-c338-32b542b92819"
   },
   "outputs": [],
   "source": [
    "#scatter plot\n",
    "iris=sns.load_dataset('iris')\n",
    "iris.head()"
   ]
  },
  {
   "cell_type": "code",
   "execution_count": null,
   "metadata": {
    "colab": {
     "base_uri": "https://localhost:8080/",
     "height": 542
    },
    "id": "r52DlCUuGsLn",
    "outputId": "0c86bb54-5ac5-4760-bbd2-7e9072f0c1f1"
   },
   "outputs": [],
   "source": [
    "fig=px.scatter(iris,x='petal_length',y='petal_width',color='species',size='sepal_width',hover_data=['sepal_length'],title='Scatter plot of iris dataset')\n",
    "fig.show()"
   ]
  },
  {
   "cell_type": "code",
   "execution_count": null,
   "metadata": {
    "colab": {
     "base_uri": "https://localhost:8080/",
     "height": 479
    },
    "id": "NfKnYwzj8juK",
    "outputId": "a961e057-aaf2-4189-9aac-da28806bc80e"
   },
   "outputs": [],
   "source": [
    "fig, ax1 = plt.subplots(figsize=(15, 7))\n",
    "\n",
    "sns.scatterplot(\n",
    "    data=iris, x=\"petal_length\", y=\"petal_width\", hue=\"species\",sizes=(40, 400),size=\"sepal_width\"\n",
    ")"
   ]
  }
 ],
 "metadata": {
  "colab": {
   "collapsed_sections": [],
   "name": "Data Visualization using Plotly-Seaborn.ipynb",
   "provenance": []
  },
  "kernelspec": {
   "display_name": "Python 3",
   "language": "python",
   "name": "python3"
  },
  "language_info": {
   "codemirror_mode": {
    "name": "ipython",
    "version": 3
   },
   "file_extension": ".py",
   "mimetype": "text/x-python",
   "name": "python",
   "nbconvert_exporter": "python",
   "pygments_lexer": "ipython3",
   "version": "3.8.5"
  }
 },
 "nbformat": 4,
 "nbformat_minor": 1
}
